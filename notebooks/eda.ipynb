{
 "cells": [
  {
   "cell_type": "markdown",
   "id": "5d31b956-c0d4-40c4-8959-d8d5c4db4afd",
   "metadata": {},
   "source": [
    "## Ratingとおすすめの関係"
   ]
  },
  {
   "cell_type": "code",
   "execution_count": 1,
   "id": "572f8f93-da1d-425d-893a-c5cb649bd75c",
   "metadata": {},
   "outputs": [],
   "source": [
    "import matplotlib.pyplot as plt\n",
    "import numpy as np\n",
    "import pandas as pd\n",
    "%matplotlib inline"
   ]
  },
  {
   "cell_type": "code",
   "execution_count": 2,
   "id": "d0e0c07a-c748-43ec-b875-d7131191be19",
   "metadata": {},
   "outputs": [
    {
     "data": {
      "text/html": [
       "<div>\n",
       "<style scoped>\n",
       "    .dataframe tbody tr th:only-of-type {\n",
       "        vertical-align: middle;\n",
       "    }\n",
       "\n",
       "    .dataframe tbody tr th {\n",
       "        vertical-align: top;\n",
       "    }\n",
       "\n",
       "    .dataframe thead th {\n",
       "        text-align: right;\n",
       "    }\n",
       "</style>\n",
       "<table border=\"1\" class=\"dataframe\">\n",
       "  <thead>\n",
       "    <tr style=\"text-align: right;\">\n",
       "      <th></th>\n",
       "      <th>Clothing ID</th>\n",
       "      <th>Age</th>\n",
       "      <th>Title</th>\n",
       "      <th>Review Text</th>\n",
       "      <th>Rating</th>\n",
       "      <th>Recommended IND</th>\n",
       "      <th>Positive Feedback Count</th>\n",
       "    </tr>\n",
       "  </thead>\n",
       "  <tbody>\n",
       "    <tr>\n",
       "      <th>0</th>\n",
       "      <td>0</td>\n",
       "      <td>25</td>\n",
       "      <td>3-season skirt!</td>\n",
       "      <td>Adorable, well-made skirt! lined and very slim...</td>\n",
       "      <td>5</td>\n",
       "      <td>1</td>\n",
       "      <td>4</td>\n",
       "    </tr>\n",
       "    <tr>\n",
       "      <th>1</th>\n",
       "      <td>0</td>\n",
       "      <td>39</td>\n",
       "      <td>Very cute</td>\n",
       "      <td>Love the asymmetrical hem. waist fit snugly as...</td>\n",
       "      <td>5</td>\n",
       "      <td>1</td>\n",
       "      <td>0</td>\n",
       "    </tr>\n",
       "    <tr>\n",
       "      <th>2</th>\n",
       "      <td>0</td>\n",
       "      <td>42</td>\n",
       "      <td>Beautiful! fruns small for typical retailer si...</td>\n",
       "      <td>I love this skirt! i wasn't sure about the mix...</td>\n",
       "      <td>5</td>\n",
       "      <td>1</td>\n",
       "      <td>5</td>\n",
       "    </tr>\n",
       "    <tr>\n",
       "      <th>3</th>\n",
       "      <td>0</td>\n",
       "      <td>45</td>\n",
       "      <td>NaN</td>\n",
       "      <td>I was really pleased with this skirt. the ligh...</td>\n",
       "      <td>5</td>\n",
       "      <td>1</td>\n",
       "      <td>9</td>\n",
       "    </tr>\n",
       "    <tr>\n",
       "      <th>4</th>\n",
       "      <td>0</td>\n",
       "      <td>57</td>\n",
       "      <td>Unique, pretty asymmetric skirt</td>\n",
       "      <td>I saw this skirt in retailer several months ag...</td>\n",
       "      <td>5</td>\n",
       "      <td>1</td>\n",
       "      <td>1</td>\n",
       "    </tr>\n",
       "  </tbody>\n",
       "</table>\n",
       "</div>"
      ],
      "text/plain": [
       "   Clothing ID  Age                                              Title  \\\n",
       "0            0   25                                    3-season skirt!   \n",
       "1            0   39                                          Very cute   \n",
       "2            0   42  Beautiful! fruns small for typical retailer si...   \n",
       "3            0   45                                                NaN   \n",
       "4            0   57                    Unique, pretty asymmetric skirt   \n",
       "\n",
       "                                         Review Text  Rating  Recommended IND  \\\n",
       "0  Adorable, well-made skirt! lined and very slim...       5                1   \n",
       "1  Love the asymmetrical hem. waist fit snugly as...       5                1   \n",
       "2  I love this skirt! i wasn't sure about the mix...       5                1   \n",
       "3  I was really pleased with this skirt. the ligh...       5                1   \n",
       "4  I saw this skirt in retailer several months ag...       5                1   \n",
       "\n",
       "   Positive Feedback Count  \n",
       "0                        4  \n",
       "1                        0  \n",
       "2                        5  \n",
       "3                        9  \n",
       "4                        1  "
      ]
     },
     "execution_count": 2,
     "metadata": {},
     "output_type": "execute_result"
    }
   ],
   "source": [
    "df = pd.read_csv(\"../data/raw/train.csv\")\n",
    "df.head()"
   ]
  },
  {
   "cell_type": "code",
   "execution_count": 3,
   "id": "e97c617c-8690-4d47-9b5e-33dda47562af",
   "metadata": {},
   "outputs": [],
   "source": [
    "# ratingに対するlabelのカウント\n",
    "count_0 = df[df[\"Recommended IND\"] == 0][\"Rating\"].value_counts().sort_index()\n",
    "count_1 = df[df[\"Recommended IND\"] == 1][\"Rating\"].value_counts().sort_index()"
   ]
  },
  {
   "cell_type": "code",
   "execution_count": 4,
   "id": "12b239a8-52ab-472b-bcfd-8824b6632ef1",
   "metadata": {},
   "outputs": [
    {
     "data": {
      "text/plain": [
       "<matplotlib.legend.Legend at 0xffff601f2b90>"
      ]
     },
     "execution_count": 4,
     "metadata": {},
     "output_type": "execute_result"
    },
    {
     "data": {
      "image/png": "[encoded data removed]",
      "text/plain": [
       "<Figure size 1000x600 with 1 Axes>"
      ]
     },
     "metadata": {},
     "output_type": "display_data"
    }
   ],
   "source": [
    "fig, ax = plt.subplots(figsize=(10, 6))\n",
    "bar_width = 0.35\n",
    "index = np.arange(1, 6)\n",
    "\n",
    "bar1 = ax.bar(index - bar_width/2, count_0, bar_width, label='Label 0', color='red')\n",
    "bar2 = ax.bar(index + bar_width/2, count_1, bar_width, label='Label 1', color='blue')\n",
    "ax.set_xlabel('Rating')\n",
    "ax.set_ylabel('Count')\n",
    "ax.set_title('Relationship between Rating and Label')\n",
    "ax.set_xticks(index)\n",
    "ax.set_xticklabels(index)\n",
    "ax.legend()"
   ]
  },
  {
   "cell_type": "markdown",
   "id": "35c99582-4c8f-4ee3-9650-6c1158514c60",
   "metadata": {},
   "source": [
    "## 埋め込みした結果と、正解ラベルが離れているデータを抽出する"
   ]
  },
  {
   "cell_type": "code",
   "execution_count": 5,
   "id": "f57e0cb1-0e13-4831-b7cc-bbd04ca88fcf",
   "metadata": {},
   "outputs": [],
   "source": [
    "df = pd.read_csv(\"../data/deberta/train.csv\")"
   ]
  },
  {
   "cell_type": "code",
   "execution_count": 6,
   "id": "8aed82f8-7461-456e-9e4b-153e74983e8d",
   "metadata": {},
   "outputs": [],
   "source": [
    "threshold = 0.5\n",
    "pred = df[\"probability\"].to_numpy().astype(np.float32)\n",
    "labels = df[\"labels\"].to_numpy().astype(np.float32)\n",
    "differences = np.abs(pred - labels)\n",
    "indices = np.where(differences > threshold)[0]"
   ]
  },
  {
   "cell_type": "code",
   "execution_count": 7,
   "id": "67983601-9ae6-4c8c-a9fe-a65af0431167",
   "metadata": {},
   "outputs": [
    {
     "data": {
      "text/html": [
       "<div>\n",
       "<style scoped>\n",
       "    .dataframe tbody tr th:only-of-type {\n",
       "        vertical-align: middle;\n",
       "    }\n",
       "\n",
       "    .dataframe tbody tr th {\n",
       "        vertical-align: top;\n",
       "    }\n",
       "\n",
       "    .dataframe thead th {\n",
       "        text-align: right;\n",
       "    }\n",
       "</style>\n",
       "<table border=\"1\" class=\"dataframe\">\n",
       "  <thead>\n",
       "    <tr style=\"text-align: right;\">\n",
       "      <th></th>\n",
       "      <th>Clothing ID</th>\n",
       "      <th>Age</th>\n",
       "      <th>Positive Feedback Count</th>\n",
       "      <th>Division Name</th>\n",
       "      <th>Department Name</th>\n",
       "      <th>Class Name</th>\n",
       "      <th>text</th>\n",
       "      <th>labels</th>\n",
       "      <th>probability</th>\n",
       "    </tr>\n",
       "  </thead>\n",
       "  <tbody>\n",
       "    <tr>\n",
       "      <th>8</th>\n",
       "      <td>1</td>\n",
       "      <td>30</td>\n",
       "      <td>0</td>\n",
       "      <td>General</td>\n",
       "      <td>Bottoms</td>\n",
       "      <td>Pants</td>\n",
       "      <td>title: Comfy but... [SEP] review: The top is h...</td>\n",
       "      <td>1</td>\n",
       "      <td>0.003810</td>\n",
       "    </tr>\n",
       "    <tr>\n",
       "      <th>14</th>\n",
       "      <td>2</td>\n",
       "      <td>25</td>\n",
       "      <td>4</td>\n",
       "      <td>General</td>\n",
       "      <td>Tops</td>\n",
       "      <td>Sweaters</td>\n",
       "      <td>title: Love, love, but way too big! [SEP] revi...</td>\n",
       "      <td>1</td>\n",
       "      <td>0.005596</td>\n",
       "    </tr>\n",
       "    <tr>\n",
       "      <th>15</th>\n",
       "      <td>2</td>\n",
       "      <td>26</td>\n",
       "      <td>1</td>\n",
       "      <td>General</td>\n",
       "      <td>Tops</td>\n",
       "      <td>Sweaters</td>\n",
       "      <td>title: Looks good but for specific sizes [SEP]...</td>\n",
       "      <td>0</td>\n",
       "      <td>0.998502</td>\n",
       "    </tr>\n",
       "  </tbody>\n",
       "</table>\n",
       "</div>"
      ],
      "text/plain": [
       "    Clothing ID  Age  Positive Feedback Count Division Name Department Name  \\\n",
       "8             1   30                        0       General         Bottoms   \n",
       "14            2   25                        4       General            Tops   \n",
       "15            2   26                        1       General            Tops   \n",
       "\n",
       "   Class Name                                               text  labels  \\\n",
       "8       Pants  title: Comfy but... [SEP] review: The top is h...       1   \n",
       "14   Sweaters  title: Love, love, but way too big! [SEP] revi...       1   \n",
       "15   Sweaters  title: Looks good but for specific sizes [SEP]...       0   \n",
       "\n",
       "    probability  \n",
       "8      0.003810  \n",
       "14     0.005596  \n",
       "15     0.998502  "
      ]
     },
     "execution_count": 7,
     "metadata": {},
     "output_type": "execute_result"
    }
   ],
   "source": [
    "incorrect_df = df.iloc[indices]\n",
    "incorrect_df.head(3)"
   ]
  },
  {
   "cell_type": "code",
   "execution_count": 8,
   "id": "584418d3-3466-4146-b60e-29dfd1e31a6d",
   "metadata": {},
   "outputs": [
    {
     "data": {
      "text/plain": [
       "'title: Comfy but... [SEP] review: The top is huge! i wear an xs and am not the bustiest of women, but the top part of this romper felt like it belonged on a medium or large, even though the bottoms and waist fit perfectly. i was really disappointed, as i loved it in every other way.'"
      ]
     },
     "execution_count": 8,
     "metadata": {},
     "output_type": "execute_result"
    }
   ],
   "source": [
    "incorrect_df.iloc[0][\"text\"]"
   ]
  },
  {
   "cell_type": "code",
   "execution_count": null,
   "id": "bc0d21b8-044e-4ea0-8a3a-fb3e14326b49",
   "metadata": {},
   "outputs": [],
   "source": []
  }
 ],
 "metadata": {
  "kernelspec": {
   "display_name": "Python 3 (ipykernel)",
   "language": "python",
   "name": "python3"
  },
  "language_info": {
   "codemirror_mode": {
    "name": "ipython",
    "version": 3
   },
   "file_extension": ".py",
   "mimetype": "text/x-python",
   "name": "python",
   "nbconvert_exporter": "python",
   "pygments_lexer": "ipython3",
   "version": "3.10.7"
  }
 },
 "nbformat": 4,
 "nbformat_minor": 5
}
